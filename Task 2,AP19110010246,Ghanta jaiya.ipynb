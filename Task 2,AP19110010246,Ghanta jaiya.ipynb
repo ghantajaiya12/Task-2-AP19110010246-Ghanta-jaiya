{
 "cells": [
  {
   "cell_type": "code",
   "execution_count": 1,
   "metadata": {},
   "outputs": [
    {
     "name": "stdout",
     "output_type": "stream",
     "text": [
      "Enter your roll number:-AP19110010118\n",
      "IT Department\n"
     ]
    }
   ],
   "source": [
    "string=input(\"Enter your roll number:-\")\n",
    "if string[-3:].startswith('01'):\n",
    "    print(\"CSE Department\")\n",
    "elif string[-3:].startswith('11'):\n",
    "    print(\"IT Department\")\n",
    "elif string[-3:].startswith('21'):\n",
    "    print(\"ECE Department\")\n",
    "else:\n",
    "    print(\"Roll Number not belongs to SRM University\")"
   ]
  },
  {
   "cell_type": "code",
   "execution_count": 2,
   "metadata": {},
   "outputs": [
    {
     "name": "stdout",
     "output_type": "stream",
     "text": [
      "Enter your roll number:-AP19110010510\n",
      "Roll Number not belongs to SRM University\n"
     ]
    }
   ],
   "source": [
    "string=input(\"Enter your roll number:-\")\n",
    "if string[-3:].startswith('01'):\n",
    "    print(\"CSE Department\")\n",
    "elif string[-3:].startswith('11'):\n",
    "    print(\"IT Department\")\n",
    "elif string[-3:].startswith('21'):\n",
    "    print(\"ECE Department\")\n",
    "else:\n",
    "    print(\"Roll Number not belongs to SRM University\")"
   ]
  },
  {
   "cell_type": "code",
   "execution_count": 3,
   "metadata": {},
   "outputs": [
    {
     "name": "stdout",
     "output_type": "stream",
     "text": [
      "Enter your roll number:-AP19110010019\n",
      "CSE Department\n"
     ]
    }
   ],
   "source": [
    "string=input(\"Enter your roll number:-\")\n",
    "if string[-3:].startswith('01'):\n",
    "    print(\"CSE Department\")\n",
    "elif string[-3:].startswith('11'):\n",
    "    print(\"IT Department\")\n",
    "elif string[-3:].startswith('21'):\n",
    "    print(\"ECE Department\")\n",
    "else:\n",
    "    print(\"Roll Number not belongs to SRM University\")"
   ]
  },
  {
   "cell_type": "code",
   "execution_count": 4,
   "metadata": {},
   "outputs": [
    {
     "name": "stdout",
     "output_type": "stream",
     "text": [
      "Enter your roll number:-AP19110010215\n",
      "ECE Department\n"
     ]
    }
   ],
   "source": [
    "string=input(\"Enter your roll number:-\")\n",
    "if string[-3:].startswith('01'):\n",
    "    print(\"CSE Department\")\n",
    "elif string[-3:].startswith('11'):\n",
    "    print(\"IT Department\")\n",
    "elif string[-3:].startswith('21'):\n",
    "    print(\"ECE Department\")\n",
    "else:\n",
    "    print(\"Roll Number not belongs to SRM University\")"
   ]
  },
  {
   "cell_type": "code",
   "execution_count": null,
   "metadata": {},
   "outputs": [],
   "source": []
  }
 ],
 "metadata": {
  "kernelspec": {
   "display_name": "Python 3",
   "language": "python",
   "name": "python3"
  },
  "language_info": {
   "codemirror_mode": {
    "name": "ipython",
    "version": 3
   },
   "file_extension": ".py",
   "mimetype": "text/x-python",
   "name": "python",
   "nbconvert_exporter": "python",
   "pygments_lexer": "ipython3",
   "version": "3.7.4"
  }
 },
 "nbformat": 4,
 "nbformat_minor": 2
}
